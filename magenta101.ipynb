{
  "cells": [
    {
      "cell_type": "markdown",
      "metadata": {
        "id": "DYePqYDbwjT1"
      },
      "source": [
        "# Making music with Magenta\n",
        "\n",
        "[Magenta](https://magenta.tensorflow.org/) is a Python library that helps you generate art and music. In this tutorial, we'll talk about the music generation bits in `note_seq` -- how to make your browser sing, and in particular, how to make your browser sing like you!\n",
        "\n",
        "As a library, `note_seq` can help you:\n",
        "- make music using some of the neat abstractions and utilities in the library\n",
        "- use Machine Learning models to generate music."
      ]
    },
    {
      "cell_type": "code",
      "execution_count": null,
      "metadata": {
        "colab": {
          "background_save": true,
          "base_uri": "https://localhost:8080/"
        },
        "id": "2NaBseyzwxmU",
        "outputId": "c70247aa-28d9-47e3-ebf8-ab6363e3c8e7"
      },
      "outputs": [
        {
          "output_type": "stream",
          "name": "stdout",
          "text": [
            "Installing dependencies...\n",
            "Selecting previously unselected package fluid-soundfont-gm.\n",
            "(Reading database ... 155653 files and directories currently installed.)\n",
            "Preparing to unpack .../fluid-soundfont-gm_3.1-5.1_all.deb ...\n",
            "Unpacking fluid-soundfont-gm (3.1-5.1) ...\n",
            "Selecting previously unselected package libfluidsynth1:amd64.\n",
            "Preparing to unpack .../libfluidsynth1_1.1.9-1_amd64.deb ...\n",
            "Unpacking libfluidsynth1:amd64 (1.1.9-1) ...\n",
            "Setting up fluid-soundfont-gm (3.1-5.1) ...\n",
            "Setting up libfluidsynth1:amd64 (1.1.9-1) ...\n",
            "Processing triggers for libc-bin (2.27-3ubuntu1.3) ...\n",
            "/sbin/ldconfig.real: /usr/local/lib/python3.7/dist-packages/ideep4py/lib/libmkldnn.so.0 is not a symbolic link\n",
            "\n",
            "\u001b[K     |████████████████████████████████| 5.6 MB 8.9 MB/s \n",
            "\u001b[K     |████████████████████████████████| 51 kB 5.4 MB/s \n",
            "\u001b[?25h  Building wheel for pretty-midi (setup.py) ... \u001b[?25l\u001b[?25hdone\n",
            "\u001b[K     |████████████████████████████████| 1.4 MB 9.1 MB/s \n",
            "\u001b[K     |████████████████████████████████| 254 kB 47.6 MB/s \n",
            "\u001b[K     |████████████████████████████████| 209 kB 41.4 MB/s \n",
            "\u001b[K     |████████████████████████████████| 3.6 MB 25.8 MB/s \n",
            "\u001b[K     |████████████████████████████████| 69 kB 5.9 MB/s \n",
            "\u001b[K     |████████████████████████████████| 2.3 MB 45.8 MB/s \n",
            "\u001b[K     |████████████████████████████████| 1.6 MB 57.6 MB/s \n",
            "\u001b[K     |████████████████████████████████| 90 kB 7.8 MB/s \n",
            "\u001b[K     |████████████████████████████████| 352 kB 54.8 MB/s \n",
            "\u001b[K     |████████████████████████████████| 1.4 MB 59.0 MB/s \n",
            "\u001b[K     |████████████████████████████████| 204 kB 23.7 MB/s \n",
            "\u001b[K     |████████████████████████████████| 20.2 MB 1.4 MB/s \n",
            "\u001b[K     |████████████████████████████████| 408 kB 67.7 MB/s \n",
            "\u001b[K     |████████████████████████████████| 79 kB 6.5 MB/s \n",
            "\u001b[K     |████████████████████████████████| 385 kB 54.0 MB/s \n",
            "\u001b[K     |████████████████████████████████| 1.1 MB 49.8 MB/s \n",
            "\u001b[K     |████████████████████████████████| 981 kB 52.2 MB/s \n",
            "\u001b[K     |████████████████████████████████| 58 kB 4.1 MB/s \n",
            "\u001b[K     |████████████████████████████████| 193 kB 39.8 MB/s \n",
            "\u001b[K     |████████████████████████████████| 367 kB 51.0 MB/s \n",
            "\u001b[K     |████████████████████████████████| 5.8 MB 26.7 MB/s \n",
            "\u001b[K     |████████████████████████████████| 251 kB 48.3 MB/s \n",
            "\u001b[K     |████████████████████████████████| 114 kB 39.2 MB/s \n",
            "\u001b[K     |████████████████████████████████| 191 kB 51.5 MB/s \n",
            "\u001b[K     |████████████████████████████████| 191 kB 50.4 MB/s \n",
            "\u001b[K     |████████████████████████████████| 178 kB 52.1 MB/s \n",
            "\u001b[K     |████████████████████████▌       | 392.2 MB 1.5 MB/s eta 0:01:18"
          ]
        }
      ],
      "source": [
        "print('Installing dependencies...')\n",
        "!apt-get update -qq && apt-get install -qq libfluidsynth1 fluid-soundfont-gm build-essential libasound2-dev libjack-dev\n",
        "!pip install -qU pyfluidsynth pretty_midi\n",
        "\n",
        "!pip install -qU magenta\n",
        "\n",
        "# Hack to allow python to pick up the newly-installed fluidsynth lib. \n",
        "# This is only needed for the hosted Colab environment.\n",
        "import ctypes.util\n",
        "orig_ctypes_util_find_library = ctypes.util.find_library\n",
        "def proxy_find_library(lib):\n",
        "  if lib == 'fluidsynth':\n",
        "    return 'libfluidsynth.so.1'\n",
        "  else:\n",
        "    return orig_ctypes_util_find_library(lib)\n",
        "ctypes.util.find_library = proxy_find_library\n",
        "\n",
        "print('Importing libraries and defining some helper functions...')\n",
        "from google.colab import files\n",
        "\n",
        "import magenta\n",
        "import note_seq\n",
        "import tensorflow\n",
        "\n",
        "print('🎉 Done!')\n",
        "print(magenta.__version__)\n",
        "print(tensorflow.__version__)"
      ]
    },
    {
      "cell_type": "markdown",
      "metadata": {
        "id": "bQQB3teoxaT8"
      },
      "source": [
        "# Step 1. Making sounds with NoteSequences\n",
        "\n",
        "Everything in `Magenta` is centered around [NoteSequences](https://github.com/magenta/note-seq/blob/main/note_seq/protobuf/music.proto#L27). This is an abstract representation of a series of notes, each with different pitches, instruments and strike velocities, much like [MIDI](https://en.wikipedia.org/wiki/MIDI).\n",
        "\n",
        "For example, this is a `NoteSequence` that represents \"Twinkle Twinkle Little Star\". Try changing the pitches to see how the sound changes!"
      ]
    },
    {
      "cell_type": "code",
      "execution_count": null,
      "metadata": {
        "id": "BMZKUNVBxcH4"
      },
      "outputs": [],
      "source": [
        "from note_seq.protobuf import music_pb2\n",
        "\n",
        "twinkle_twinkle = music_pb2.NoteSequence()\n",
        "\n",
        "# Add the notes to the sequence.\n",
        "twinkle_twinkle.notes.add(pitch=60, start_time=0.0, end_time=0.5, velocity=80)\n",
        "twinkle_twinkle.notes.add(pitch=60, start_time=0.5, end_time=1.0, velocity=80)\n",
        "twinkle_twinkle.notes.add(pitch=67, start_time=1.0, end_time=1.5, velocity=80)\n",
        "twinkle_twinkle.notes.add(pitch=67, start_time=1.5, end_time=2.0, velocity=80)\n",
        "twinkle_twinkle.notes.add(pitch=69, start_time=2.0, end_time=2.5, velocity=80)\n",
        "twinkle_twinkle.notes.add(pitch=69, start_time=2.5, end_time=3.0, velocity=80)\n",
        "twinkle_twinkle.notes.add(pitch=67, start_time=3.0, end_time=4.0, velocity=80)\n",
        "twinkle_twinkle.notes.add(pitch=65, start_time=4.0, end_time=4.5, velocity=80)\n",
        "twinkle_twinkle.notes.add(pitch=65, start_time=4.5, end_time=5.0, velocity=80)\n",
        "twinkle_twinkle.notes.add(pitch=64, start_time=5.0, end_time=5.5, velocity=80)\n",
        "twinkle_twinkle.notes.add(pitch=64, start_time=5.5, end_time=6.0, velocity=80)\n",
        "twinkle_twinkle.notes.add(pitch=62, start_time=6.0, end_time=6.5, velocity=80)\n",
        "twinkle_twinkle.notes.add(pitch=62, start_time=6.5, end_time=7.0, velocity=80)\n",
        "twinkle_twinkle.notes.add(pitch=60, start_time=7.0, end_time=8.0, velocity=80) \n",
        "twinkle_twinkle.total_time = 8\n",
        "\n",
        "twinkle_twinkle.tempos.add(qpm=60);\n",
        "\n",
        "# This is a colab utility method that visualizes a NoteSequence.\n",
        "note_seq.plot_sequence(twinkle_twinkle)\n",
        "\n",
        "# This is a colab utility method that plays a NoteSequence.\n",
        "note_seq.play_sequence(twinkle_twinkle,synth=note_seq.fluidsynth)\n",
        "\n",
        "# Here's another NoteSequence!\n",
        "teapot = music_pb2.NoteSequence()\n",
        "teapot.notes.add(pitch=69, start_time=0, end_time=0.5, velocity=80)\n",
        "teapot.notes.add(pitch=71, start_time=0.5, end_time=1, velocity=80)\n",
        "teapot.notes.add(pitch=73, start_time=1, end_time=1.5, velocity=80)\n",
        "teapot.notes.add(pitch=74, start_time=1.5, end_time=2, velocity=80)\n",
        "teapot.notes.add(pitch=76, start_time=2, end_time=2.5, velocity=80)\n",
        "teapot.notes.add(pitch=81, start_time=3, end_time=4, velocity=80)\n",
        "teapot.notes.add(pitch=78, start_time=4, end_time=5, velocity=80)\n",
        "teapot.notes.add(pitch=81, start_time=5, end_time=6, velocity=80)\n",
        "teapot.notes.add(pitch=76, start_time=6, end_time=8, velocity=80)\n",
        "teapot.total_time = 8\n",
        "\n",
        "teapot.tempos.add(qpm=60);\n",
        "\n",
        "note_seq.plot_sequence(teapot)\n",
        "note_seq.play_sequence(teapot,synth=note_seq.synthesize)"
      ]
    },
    {
      "cell_type": "markdown",
      "source": [
        "You can use other instruments for your sequences. For example, the sequence below should sound like a drum solo!"
      ],
      "metadata": {
        "id": "l-gHAySSxex_"
      }
    },
    {
      "cell_type": "code",
      "source": [
        "drums = music_pb2.NoteSequence()\n",
        "\n",
        "drums.notes.add(pitch=36, start_time=0, end_time=0.125, is_drum=True, instrument=10, velocity=80)\n",
        "drums.notes.add(pitch=38, start_time=0, end_time=0.125, is_drum=True, instrument=10, velocity=80)\n",
        "drums.notes.add(pitch=42, start_time=0, end_time=0.125, is_drum=True, instrument=10, velocity=80)\n",
        "drums.notes.add(pitch=46, start_time=0, end_time=0.125, is_drum=True, instrument=10, velocity=80)\n",
        "drums.notes.add(pitch=42, start_time=0.25, end_time=0.375, is_drum=True, instrument=10, velocity=80)\n",
        "drums.notes.add(pitch=42, start_time=0.375, end_time=0.5, is_drum=True, instrument=10, velocity=80)\n",
        "drums.notes.add(pitch=42, start_time=0.5, end_time=0.625, is_drum=True, instrument=10, velocity=80)\n",
        "drums.notes.add(pitch=50, start_time=0.5, end_time=0.625, is_drum=True, instrument=10, velocity=80)\n",
        "drums.notes.add(pitch=36, start_time=0.75, end_time=0.875, is_drum=True, instrument=10, velocity=80)\n",
        "drums.notes.add(pitch=38, start_time=0.75, end_time=0.875, is_drum=True, instrument=10, velocity=80)\n",
        "drums.notes.add(pitch=42, start_time=0.75, end_time=0.875, is_drum=True, instrument=10, velocity=80)\n",
        "drums.notes.add(pitch=45, start_time=0.75, end_time=0.875, is_drum=True, instrument=10, velocity=80)\n",
        "drums.notes.add(pitch=36, start_time=1, end_time=1.125, is_drum=True, instrument=10, velocity=80)\n",
        "drums.notes.add(pitch=42, start_time=1, end_time=1.125, is_drum=True, instrument=10, velocity=80)\n",
        "drums.notes.add(pitch=46, start_time=1, end_time=1.125, is_drum=True, instrument=10, velocity=80)\n",
        "drums.notes.add(pitch=42, start_time=1.25, end_time=1.375, is_drum=True, instrument=10, velocity=80)\n",
        "drums.notes.add(pitch=48, start_time=1.25, end_time=1.375, is_drum=True, instrument=10, velocity=80)\n",
        "drums.notes.add(pitch=50, start_time=1.25, end_time=1.375, is_drum=True, instrument=10, velocity=80)\n",
        "drums.total_time = 1.375\n",
        "\n",
        "drums.tempos.add(qpm=60)\n",
        "\n",
        "# This is a colab utility method that visualizes a NoteSequence.\n",
        "note_seq.plot_sequence(drums)\n",
        "\n",
        "# This is a colab utility method that plays a NoteSequence.\n",
        "note_seq.play_sequence(drums,synth=note_seq.fluidsynth)"
      ],
      "metadata": {
        "id": "HrbC3WXE7Wjj"
      },
      "execution_count": null,
      "outputs": []
    }
  ],
  "metadata": {
    "colab": {
      "name": "magenta101.ipynb",
      "provenance": [],
      "authorship_tag": "ABX9TyMXD7mUH0d25gU955baPTDQ"
    },
    "kernelspec": {
      "display_name": "Python 3",
      "name": "python3"
    },
    "language_info": {
      "name": "python"
    }
  },
  "nbformat": 4,
  "nbformat_minor": 0
}