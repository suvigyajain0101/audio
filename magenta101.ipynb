{
  "cells": [
    {
      "cell_type": "markdown",
      "metadata": {
        "id": "DYePqYDbwjT1"
      },
      "source": [
        "# Making music with Magenta\n",
        "\n",
        "[Magenta](https://magenta.tensorflow.org/) is a Python library that helps you generate art and music. In this tutorial, we'll talk about the music generation bits in `note_seq` -- how to make your browser sing, and in particular, how to make your browser sing like you!\n",
        "\n",
        "As a library, `note_seq` can help you:\n",
        "- make music using some of the neat abstractions and utilities in the library\n",
        "- use Machine Learning models to generate music."
      ]
    },
    {
      "cell_type": "code",
      "execution_count": null,
      "metadata": {
        "colab": {
          "background_save": true,
          "base_uri": "https://localhost:8080/"
        },
        "id": "2NaBseyzwxmU",
        "outputId": "47c5c711-09eb-434c-a764-234fe094d9e9"
      },
      "outputs": [
        {
          "output_type": "stream",
          "name": "stdout",
          "text": [
            "Installing dependencies...\n"
          ]
        }
      ],
      "source": [
        "print('Installing dependencies...')\n",
        "!apt-get update -qq && apt-get install -qq libfluidsynth1 fluid-soundfont-gm build-essential libasound2-dev libjack-dev\n",
        "!pip install -qU pyfluidsynth pretty_midi\n",
        "\n",
        "!pip install -qU magenta\n",
        "\n",
        "# Hack to allow python to pick up the newly-installed fluidsynth lib. \n",
        "# This is only needed for the hosted Colab environment.\n",
        "import ctypes.util\n",
        "orig_ctypes_util_find_library = ctypes.util.find_library\n",
        "def proxy_find_library(lib):\n",
        "  if lib == 'fluidsynth':\n",
        "    return 'libfluidsynth.so.1'\n",
        "  else:\n",
        "    return orig_ctypes_util_find_library(lib)\n",
        "ctypes.util.find_library = proxy_find_library\n",
        "\n",
        "print('Importing libraries and defining some helper functions...')\n",
        "from google.colab import files\n",
        "\n",
        "import magenta\n",
        "import note_seq\n",
        "import tensorflow\n",
        "\n",
        "print('🎉 Done!')\n",
        "print(magenta.__version__)\n",
        "print(tensorflow.__version__)"
      ]
    },
    {
      "cell_type": "markdown",
      "metadata": {
        "id": "bQQB3teoxaT8"
      },
      "source": [
        "# Step 1. Making sounds with NoteSequences\n",
        "\n",
        "Everything in `Magenta` is centered around [NoteSequences](https://github.com/magenta/note-seq/blob/main/note_seq/protobuf/music.proto#L27). This is an abstract representation of a series of notes, each with different pitches, instruments and strike velocities, much like [MIDI](https://en.wikipedia.org/wiki/MIDI).\n",
        "\n",
        "For example, this is a `NoteSequence` that represents \"Twinkle Twinkle Little Star\". Try changing the pitches to see how the sound changes!"
      ]
    },
    {
      "cell_type": "code",
      "execution_count": null,
      "metadata": {
        "id": "BMZKUNVBxcH4"
      },
      "outputs": [],
      "source": [
        "from note_seq.protobuf import music_pb2\n",
        "\n",
        "twinkle_twinkle = music_pb2.NoteSequence()\n",
        "\n",
        "# Add the notes to the sequence.\n",
        "twinkle_twinkle.notes.add(pitch=60, start_time=0.0, end_time=0.5, velocity=80)\n",
        "twinkle_twinkle.notes.add(pitch=60, start_time=0.5, end_time=1.0, velocity=80)\n",
        "twinkle_twinkle.notes.add(pitch=67, start_time=1.0, end_time=1.5, velocity=80)\n",
        "twinkle_twinkle.notes.add(pitch=67, start_time=1.5, end_time=2.0, velocity=80)\n",
        "twinkle_twinkle.notes.add(pitch=69, start_time=2.0, end_time=2.5, velocity=80)\n",
        "twinkle_twinkle.notes.add(pitch=69, start_time=2.5, end_time=3.0, velocity=80)\n",
        "twinkle_twinkle.notes.add(pitch=67, start_time=3.0, end_time=4.0, velocity=80)\n",
        "twinkle_twinkle.notes.add(pitch=65, start_time=4.0, end_time=4.5, velocity=80)\n",
        "twinkle_twinkle.notes.add(pitch=65, start_time=4.5, end_time=5.0, velocity=80)\n",
        "twinkle_twinkle.notes.add(pitch=64, start_time=5.0, end_time=5.5, velocity=80)\n",
        "twinkle_twinkle.notes.add(pitch=64, start_time=5.5, end_time=6.0, velocity=80)\n",
        "twinkle_twinkle.notes.add(pitch=62, start_time=6.0, end_time=6.5, velocity=80)\n",
        "twinkle_twinkle.notes.add(pitch=62, start_time=6.5, end_time=7.0, velocity=80)\n",
        "twinkle_twinkle.notes.add(pitch=60, start_time=7.0, end_time=8.0, velocity=80) \n",
        "twinkle_twinkle.total_time = 8\n",
        "\n",
        "twinkle_twinkle.tempos.add(qpm=60);\n",
        "\n",
        "# This is a colab utility method that visualizes a NoteSequence.\n",
        "note_seq.plot_sequence(twinkle_twinkle)\n",
        "\n",
        "# This is a colab utility method that plays a NoteSequence.\n",
        "note_seq.play_sequence(twinkle_twinkle,synth=note_seq.fluidsynth)\n",
        "\n",
        "# Here's another NoteSequence!\n",
        "teapot = music_pb2.NoteSequence()\n",
        "teapot.notes.add(pitch=69, start_time=0, end_time=0.5, velocity=80)\n",
        "teapot.notes.add(pitch=71, start_time=0.5, end_time=1, velocity=80)\n",
        "teapot.notes.add(pitch=73, start_time=1, end_time=1.5, velocity=80)\n",
        "teapot.notes.add(pitch=74, start_time=1.5, end_time=2, velocity=80)\n",
        "teapot.notes.add(pitch=76, start_time=2, end_time=2.5, velocity=80)\n",
        "teapot.notes.add(pitch=81, start_time=3, end_time=4, velocity=80)\n",
        "teapot.notes.add(pitch=78, start_time=4, end_time=5, velocity=80)\n",
        "teapot.notes.add(pitch=81, start_time=5, end_time=6, velocity=80)\n",
        "teapot.notes.add(pitch=76, start_time=6, end_time=8, velocity=80)\n",
        "teapot.total_time = 8\n",
        "\n",
        "teapot.tempos.add(qpm=60);\n",
        "\n",
        "note_seq.plot_sequence(teapot)\n",
        "note_seq.play_sequence(teapot,synth=note_seq.synthesize)"
      ]
    },
    {
      "cell_type": "code",
      "execution_count": null,
      "metadata": {
        "id": "l-gHAySSxex_"
      },
      "outputs": [],
      "source": [
        ""
      ]
    }
  ],
  "metadata": {
    "colab": {
      "name": "magenta101.ipynb",
      "provenance": [],
      "authorship_tag": "ABX9TyPW9Tky/HOttpWVN1eibOm3"
    },
    "kernelspec": {
      "display_name": "Python 3",
      "name": "python3"
    },
    "language_info": {
      "name": "python"
    }
  },
  "nbformat": 4,
  "nbformat_minor": 0
}